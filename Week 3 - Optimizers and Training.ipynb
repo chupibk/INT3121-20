{
 "cells": [
  {
   "cell_type": "markdown",
   "metadata": {},
   "source": [
    "# Special Topics in Computer Science\n",
    "## INT3121 20 UET ----- 4-6 Wednesday 210 GD3\n",
    "## Week 3\n",
    "\n",
    "## Diep Ng., Ph.D.\n",
    "#### Mail-to: ngocdiep at vnu.edu.vn"
   ]
  },
  {
   "cell_type": "markdown",
   "metadata": {},
   "source": [
    "# 1. Cross entropy loss"
   ]
  },
  {
   "cell_type": "code",
   "execution_count": 79,
   "metadata": {},
   "outputs": [],
   "source": [
    "def cross_entropy(y_true, y_pred, eps=1e-12):\n",
    "    '''\n",
    "    Log loss is undefined for p=0 or p=1,\n",
    "        so probabilities are\n",
    "        clipped to (eps, 1 - eps).\n",
    "    '''\n",
    "    y_true = np.clip(y_true, eps, 1. - eps)\n",
    "    y_pred = np.clip(y_pred, eps, 1. - eps)\n",
    "    log_likelihood = -np.log(y_pred)\n",
    "    loss = -(y_true * np.log(y_pred)).sum()\n",
    "    return loss"
   ]
  },
  {
   "cell_type": "code",
   "execution_count": 80,
   "metadata": {},
   "outputs": [
    {
     "data": {
      "text/plain": [
       "0.10536051571528555"
      ]
     },
     "execution_count": 80,
     "metadata": {},
     "output_type": "execute_result"
    }
   ],
   "source": [
    "cross_entropy([1, 0, 0, 0], [0.9, 0, 0, 0.1])"
   ]
  },
  {
   "cell_type": "code",
   "execution_count": 84,
   "metadata": {},
   "outputs": [
    {
     "data": {
      "text/plain": [
       "0.1053605156913434"
      ]
     },
     "execution_count": 84,
     "metadata": {},
     "output_type": "execute_result"
    }
   ],
   "source": [
    "cross_entropy([1, 0, 0, 0], [0.9, 0.05, 0.05, 0]) #doesn't matter how prob.s of incorrect classes distribute"
   ]
  },
  {
   "cell_type": "code",
   "execution_count": 85,
   "metadata": {},
   "outputs": [
    {
     "data": {
      "text/plain": [
       "0.22314355134622274"
      ]
     },
     "execution_count": 85,
     "metadata": {},
     "output_type": "execute_result"
    }
   ],
   "source": [
    "cross_entropy([1, 0, 0, 0], [0.8, 0.1, 0.1, 0])"
   ]
  },
  {
   "cell_type": "code",
   "execution_count": 87,
   "metadata": {},
   "outputs": [
    {
     "data": {
      "text/plain": [
       "2.3025850930218996"
      ]
     },
     "execution_count": 87,
     "metadata": {},
     "output_type": "execute_result"
    }
   ],
   "source": [
    "cross_entropy([1, 0, 0, 0], [0.1, 0.8, 0.1, 0]) #totally incorrect"
   ]
  },
  {
   "cell_type": "code",
   "execution_count": 88,
   "metadata": {},
   "outputs": [
    {
     "data": {
      "text/plain": [
       "1.2039728043294426"
      ]
     },
     "execution_count": 88,
     "metadata": {},
     "output_type": "execute_result"
    }
   ],
   "source": [
    "cross_entropy([1, 0, 0, 0], [0.3, 0.3, 0.3, 0.1]) #"
   ]
  },
  {
   "cell_type": "code",
   "execution_count": 73,
   "metadata": {},
   "outputs": [],
   "source": [
    "def cross_entropy2(x, y):\n",
    "    \"\"\" Computes cross entropy between two distributions.\n",
    "    Input: x: iterabale of N non-negative values\n",
    "           y: iterabale of N non-negative values\n",
    "    Returns: scalar\n",
    "    \"\"\"\n",
    "    x = np.array(x, dtype=np.float)\n",
    "    y = np.array(y, dtype=np.float)\n",
    "    if np.any(x < 0) or np.any(y < 0):\n",
    "        raise ValueError('Negative values exist.')\n",
    "\n",
    "    # Force to proper probability mass function.\n",
    "   \n",
    "    x /= np.sum(x)\n",
    "    y /= np.sum(y)\n",
    "\n",
    "    # Ignore zero 'y' elements.\n",
    "    mask = y > 0\n",
    "    x = x[mask]\n",
    "    y = y[mask]    \n",
    "    ce = -np.sum(x * np.log(y)) \n",
    "    return ce"
   ]
  },
  {
   "cell_type": "code",
   "execution_count": 89,
   "metadata": {},
   "outputs": [
    {
     "data": {
      "text/plain": [
       "0.10536051565782628"
      ]
     },
     "execution_count": 89,
     "metadata": {},
     "output_type": "execute_result"
    }
   ],
   "source": [
    "cross_entropy2([1, 0, 0, 0], [0.9, 0, 0, 0.1])"
   ]
  },
  {
   "cell_type": "code",
   "execution_count": 90,
   "metadata": {},
   "outputs": [],
   "source": [
    "from keras import metrics"
   ]
  },
  {
   "cell_type": "code",
   "execution_count": 93,
   "metadata": {},
   "outputs": [
    {
     "data": {
      "text/plain": [
       "<tf.Tensor 'Mean:0' shape=() dtype=float32>"
      ]
     },
     "execution_count": 93,
     "metadata": {},
     "output_type": "execute_result"
    }
   ],
   "source": [
    "metrics.binary_accuracy([1, 0], [1, 1])"
   ]
  },
  {
   "cell_type": "code",
   "execution_count": 98,
   "metadata": {},
   "outputs": [
    {
     "ename": "AttributeError",
     "evalue": "module 'keras.backend' has no attribute 'metrisc'",
     "output_type": "error",
     "traceback": [
      "\u001b[0;31m---------------------------------------------------------------------------\u001b[0m",
      "\u001b[0;31mAttributeError\u001b[0m                            Traceback (most recent call last)",
      "\u001b[0;32m<ipython-input-98-67654fe8ef81>\u001b[0m in \u001b[0;36m<module>\u001b[0;34m\u001b[0m\n\u001b[0;32m----> 1\u001b[0;31m \u001b[0mK\u001b[0m\u001b[0;34m.\u001b[0m\u001b[0mmetrisc\u001b[0m\u001b[0;34m.\u001b[0m\u001b[0mbinary_accuracy\u001b[0m\u001b[0;34m(\u001b[0m\u001b[0mnp\u001b[0m\u001b[0;34m.\u001b[0m\u001b[0marray\u001b[0m\u001b[0;34m(\u001b[0m\u001b[0;34m[\u001b[0m\u001b[0;36m1\u001b[0m\u001b[0;34m,\u001b[0m \u001b[0;36m0\u001b[0m\u001b[0;34m]\u001b[0m\u001b[0;34m)\u001b[0m\u001b[0;34m,\u001b[0m \u001b[0mnp\u001b[0m\u001b[0;34m.\u001b[0m\u001b[0marray\u001b[0m\u001b[0;34m(\u001b[0m\u001b[0;34m[\u001b[0m\u001b[0;36m1\u001b[0m\u001b[0;34m,\u001b[0m \u001b[0;36m1\u001b[0m\u001b[0;34m]\u001b[0m\u001b[0;34m)\u001b[0m\u001b[0;34m)\u001b[0m\u001b[0;34m\u001b[0m\u001b[0;34m\u001b[0m\u001b[0m\n\u001b[0m",
      "\u001b[0;31mAttributeError\u001b[0m: module 'keras.backend' has no attribute 'metrisc'"
     ]
    }
   ],
   "source": [
    "K.metrisc.binary_accuracy(np.array([1, 0]), np.array([1, 1]))"
   ]
  },
  {
   "attachments": {},
   "cell_type": "markdown",
   "metadata": {},
   "source": [
    "# 2. Backpropagation\n",
    "\n",
    "Example computation graph & computed gradients:\n",
    "\n",
    "$f(x, y, z) = (x+y)*z$\n",
    "\n",
    "<img src='backpropagation.png' width=400/>\n"
   ]
  },
  {
   "cell_type": "code",
   "execution_count": 101,
   "metadata": {},
   "outputs": [
    {
     "name": "stdout",
     "output_type": "stream",
     "text": [
      "[dfdx, dfdy, dfdz] = [-4.0, -4.0, 3]\n"
     ]
    }
   ],
   "source": [
    "# set some inputs\n",
    "x = -2; y = 5; z = -4\n",
    "\n",
    "# perform the forward pass\n",
    "q = x + y # q becomes 3\n",
    "f = q * z # f becomes -12\n",
    "\n",
    "# perform the backward pass (backpropagation) in reverse order:\n",
    "# first backprop through f = q * z\n",
    "dfdz = q # df/dz = q, so gradient on z becomes 3\n",
    "dfdq = z # df/dq = z, so gradient on q becomes -4\n",
    "# now backprop through q = x + y\n",
    "dqdx = 1.0\n",
    "dqdy = 1.0\n",
    "dfdx = dfdq * dqdx # will be z = -4 #And the multiplication here is the chain rule!\n",
    "dfdy = dfdq * dqdy# will be z = -4 #\n",
    "print(\"[dfdx, dfdy, dfdz] = [{}, {}, {}]\".format(dfdx, dfdy, dfdz))"
   ]
  },
  {
   "cell_type": "markdown",
   "metadata": {},
   "source": [
    "# Hyperparameter search\n",
    "\n",
    "Potential use cases of hyperas\n",
    "\n",
    "- Varying dropout probabilities, sampling from a uniform distribution\n",
    "- Different layer output sizes\n",
    "- Different optimization algorithms to use\n",
    "- Varying choices of activation functions\n",
    "- Conditionally adding layers depending on a choice\n",
    "- Swapping whole sets of layers"
   ]
  },
  {
   "cell_type": "code",
   "execution_count": 108,
   "metadata": {},
   "outputs": [
    {
     "name": "stdout",
     "output_type": "stream",
     "text": [
      "Overwriting hyperas_example.py\n"
     ]
    }
   ],
   "source": [
    "%%writefile hyperas_example.py\n",
    "'''\n",
    "Reference: https://github.com/maxpumperla/hyperas\n",
    "'''\n",
    "import numpy as np\n",
    "\n",
    "from hyperopt import Trials, STATUS_OK, tpe\n",
    "from keras.datasets import mnist\n",
    "from keras.layers.core import Dense, Dropout, Activation\n",
    "from keras.models import Sequential\n",
    "from keras.utils import np_utils\n",
    "\n",
    "from hyperas import optim\n",
    "from hyperas.distributions import choice, uniform\n",
    "\n",
    "\n",
    "def data():\n",
    "    \"\"\"\n",
    "    Data providing function:\n",
    "\n",
    "    This function is separated from create_model() so that hyperopt\n",
    "    won't reload data for each evaluation run.\n",
    "    \"\"\"\n",
    "    (x_train, y_train), (x_test, y_test) = mnist.load_data()\n",
    "    x_train = x_train.reshape(60000, 784)\n",
    "    x_test = x_test.reshape(10000, 784)\n",
    "    x_train = x_train.astype('float32')\n",
    "    x_test = x_test.astype('float32')\n",
    "    x_train /= 255\n",
    "    x_test /= 255\n",
    "    nb_classes = 10\n",
    "    y_train = np_utils.to_categorical(y_train, nb_classes)\n",
    "    y_test = np_utils.to_categorical(y_test, nb_classes)\n",
    "    return x_train, y_train, x_test, y_test\n",
    "\n",
    "\n",
    "def create_model(x_train, y_train, x_test, y_test):\n",
    "    \"\"\"\n",
    "    Model providing function:\n",
    "\n",
    "    Create Keras model with double curly brackets dropped-in as needed.\n",
    "    Return value has to be a valid python dictionary with two customary keys:\n",
    "        - loss: Specify a numeric evaluation metric to be minimized\n",
    "        - status: Just use STATUS_OK and see hyperopt documentation if not feasible\n",
    "    The last one is optional, though recommended, namely:\n",
    "        - model: specify the model just created so that we can later use it again.\n",
    "    \"\"\"\n",
    "    model = Sequential()\n",
    "    model.add(Dense(512, input_shape=(784,)))\n",
    "    model.add(Activation('relu'))\n",
    "    model.add(Dropout({{uniform(0, 1)}}))\n",
    "    model.add(Dense({{choice([256, 512, 1024])}}))\n",
    "    model.add(Activation({{choice(['relu', 'sigmoid'])}}))\n",
    "    model.add(Dropout({{uniform(0, 1)}}))\n",
    "\n",
    "    # If we choose 'four', add an additional fourth layer\n",
    "    if {{choice(['three', 'four'])}} == 'four':\n",
    "        model.add(Dense(100))\n",
    "\n",
    "        # We can also choose between complete sets of layers\n",
    "\n",
    "        model.add({{choice([Dropout(0.5), Activation('linear')])}})\n",
    "        model.add(Activation('relu'))\n",
    "\n",
    "    model.add(Dense(10))\n",
    "    model.add(Activation('softmax'))\n",
    "\n",
    "    model.compile(loss='categorical_crossentropy', metrics=['accuracy'],\n",
    "                  optimizer={{choice(['rmsprop', 'adam', 'sgd'])}})\n",
    "\n",
    "    result = model.fit(x_train, y_train,\n",
    "              batch_size={{choice([64, 128])}},\n",
    "              epochs=2,\n",
    "              verbose=2,\n",
    "              validation_split=0.1)\n",
    "    #get the highest validation accuracy of the training epochs\n",
    "    validation_acc = np.amax(result.history['val_acc']) \n",
    "    print('Best validation acc of epoch:', validation_acc)\n",
    "    return {'loss': -validation_acc, 'status': STATUS_OK, 'model': model}\n",
    "\n",
    "\n",
    "if __name__ == '__main__':\n",
    "    best_run, best_model = optim.minimize(model=create_model,\n",
    "                                          data=data,\n",
    "                                          algo=tpe.suggest,\n",
    "                                          max_evals=5,\n",
    "                                          trials=Trials())\n",
    "    X_train, Y_train, X_test, Y_test = data()\n",
    "    print(\"Evalutation of best performing model:\")\n",
    "    print(best_model.evaluate(X_test, Y_test))\n",
    "    print(\"Best performing model chosen hyper-parameters:\")\n",
    "    print(best_run)"
   ]
  },
  {
   "cell_type": "code",
   "execution_count": 109,
   "metadata": {
    "scrolled": false
   },
   "outputs": [
    {
     "name": "stdout",
     "output_type": "stream",
     "text": [
      "Using TensorFlow backend.\n",
      ">>> Imports:\n",
      "#coding=utf-8\n",
      "\n",
      "try:\n",
      "    import numpy as np\n",
      "except:\n",
      "    pass\n",
      "\n",
      "try:\n",
      "    from hyperopt import Trials, STATUS_OK, tpe\n",
      "except:\n",
      "    pass\n",
      "\n",
      "try:\n",
      "    from keras.datasets import mnist\n",
      "except:\n",
      "    pass\n",
      "\n",
      "try:\n",
      "    from keras.layers.core import Dense, Dropout, Activation\n",
      "except:\n",
      "    pass\n",
      "\n",
      "try:\n",
      "    from keras.models import Sequential\n",
      "except:\n",
      "    pass\n",
      "\n",
      "try:\n",
      "    from keras.utils import np_utils\n",
      "except:\n",
      "    pass\n",
      "\n",
      "try:\n",
      "    from hyperas import optim\n",
      "except:\n",
      "    pass\n",
      "\n",
      "try:\n",
      "    from hyperas.distributions import choice, uniform\n",
      "except:\n",
      "    pass\n",
      "\n",
      ">>> Hyperas search space:\n",
      "\n",
      "def get_space():\n",
      "    return {\n",
      "        'Dropout': hp.uniform('Dropout', 0, 1),\n",
      "        'Dense': hp.choice('Dense', [256, 512, 1024]),\n",
      "        'Activation': hp.choice('Activation', ['relu', 'sigmoid']),\n",
      "        'Dropout_1': hp.uniform('Dropout_1', 0, 1),\n",
      "        'Dropout_2': hp.choice('Dropout_2', ['three', 'four']),\n",
      "        'add': hp.choice('add', [Dropout(0.5), Activation('linear')]),\n",
      "        'optimizer': hp.choice('optimizer', ['rmsprop', 'adam', 'sgd']),\n",
      "        'batch_size': hp.choice('batch_size', [64, 128]),\n",
      "    }\n",
      "\n",
      ">>> Data\n",
      "  1: \n",
      "  2: \"\"\"\n",
      "  3: Data providing function:\n",
      "  4: \n",
      "  5: This function is separated from create_model() so that hyperopt\n",
      "  6: won't reload data for each evaluation run.\n",
      "  7: \"\"\"\n",
      "  8: (x_train, y_train), (x_test, y_test) = mnist.load_data()\n",
      "  9: x_train = x_train.reshape(60000, 784)\n",
      " 10: x_test = x_test.reshape(10000, 784)\n",
      " 11: x_train = x_train.astype('float32')\n",
      " 12: x_test = x_test.astype('float32')\n",
      " 13: x_train /= 255\n",
      " 14: x_test /= 255\n",
      " 15: nb_classes = 10\n",
      " 16: y_train = np_utils.to_categorical(y_train, nb_classes)\n",
      " 17: y_test = np_utils.to_categorical(y_test, nb_classes)\n",
      " 18: \n",
      " 19: \n",
      " 20: \n",
      ">>> Resulting replaced keras model:\n",
      "\n",
      "   1: def keras_fmin_fnct(space):\n",
      "   2: \n",
      "   3:     \"\"\"\n",
      "   4:     Model providing function:\n",
      "   5: \n",
      "   6:     Create Keras model with double curly brackets dropped-in as needed.\n",
      "   7:     Return value has to be a valid python dictionary with two customary keys:\n",
      "   8:         - loss: Specify a numeric evaluation metric to be minimized\n",
      "   9:         - status: Just use STATUS_OK and see hyperopt documentation if not feasible\n",
      "  10:     The last one is optional, though recommended, namely:\n",
      "  11:         - model: specify the model just created so that we can later use it again.\n",
      "  12:     \"\"\"\n",
      "  13:     model = Sequential()\n",
      "  14:     model.add(Dense(512, input_shape=(784,)))\n",
      "  15:     model.add(Activation('relu'))\n",
      "  16:     model.add(Dropout(space['Dropout']))\n",
      "  17:     model.add(Dense(space['Dense']))\n",
      "  18:     model.add(Activation(space['Activation']))\n",
      "  19:     model.add(Dropout(space['Dropout_1']))\n",
      "  20: \n",
      "  21:     # If we choose 'four', add an additional fourth layer\n",
      "  22:     if space['Dropout_2'] == 'four':\n",
      "  23:         model.add(Dense(100))\n",
      "  24: \n",
      "  25:         # We can also choose between complete sets of layers\n",
      "  26: \n",
      "  27:         model.add(space['add'])\n",
      "  28:         model.add(Activation('relu'))\n",
      "  29: \n",
      "  30:     model.add(Dense(10))\n",
      "  31:     model.add(Activation('softmax'))\n",
      "  32: \n",
      "  33:     model.compile(loss='categorical_crossentropy', metrics=['accuracy'],\n",
      "  34:                   optimizer=space['optimizer'])\n",
      "  35: \n",
      "  36:     result = model.fit(x_train, y_train,\n",
      "  37:               batch_size=space['batch_size'],\n",
      "  38:               epochs=2,\n",
      "  39:               verbose=2,\n",
      "  40:               validation_split=0.1)\n",
      "  41:     #get the highest validation accuracy of the training epochs\n",
      "  42:     validation_acc = np.amax(result.history['val_acc']) \n",
      "  43:     print('Best validation acc of epoch:', validation_acc)\n",
      "  44:     return {'loss': -validation_acc, 'status': STATUS_OK, 'model': model}\n",
      "  45: \n",
      "  0%|                                       | 0/5 [00:00<?, ?it/s, best loss: ?]WARNING:tensorflow:From /Users/chupi/anaconda3/envs/deeplearning/lib/python3.6/site-packages/tensorflow/python/framework/op_def_library.py:263: colocate_with (from tensorflow.python.framework.ops) is deprecated and will be removed in a future version.\n",
      "Instructions for updating:\n",
      "Colocations handled automatically by placer.\n",
      "WARNING:tensorflow:From /Users/chupi/anaconda3/envs/deeplearning/lib/python3.6/site-packages/keras/backend/tensorflow_backend.py:3445: calling dropout (from tensorflow.python.ops.nn_ops) with keep_prob is deprecated and will be removed in a future version.\n",
      "Instructions for updating:\n",
      "Please use `rate` instead of `keep_prob`. Rate should be set to `rate = 1 - keep_prob`.\n",
      "WARNING:tensorflow:From /Users/chupi/anaconda3/envs/deeplearning/lib/python3.6/site-packages/tensorflow/python/ops/math_ops.py:3066: to_int32 (from tensorflow.python.ops.math_ops) is deprecated and will be removed in a future version.\n",
      "Instructions for updating:\n",
      "Use tf.cast instead.\n",
      "Train on 54000 samples, validate on 6000 samples                                \n",
      "Epoch 1/2                                                                       \n",
      "  0%|                                       | 0/5 [00:00<?, ?it/s, best loss: ?]2019-09-11 00:06:58.029122: I tensorflow/core/platform/cpu_feature_guard.cc:141] Your CPU supports instructions that this TensorFlow binary was not compiled to use: SSE4.1 SSE4.2 AVX\n",
      "2019-09-11 00:06:58.029469: I tensorflow/core/common_runtime/process_util.cc:71] Creating new thread pool with default inter op setting: 12. Tune using inter_op_parallelism_threads for best performance.\n",
      " - 10s - loss: 1.7454 - acc: 0.4163 - val_loss: 0.8241 - val_acc: 0.8428        \n",
      "\n",
      "Epoch 2/2                                                                       \n",
      " - 9s - loss: 0.9602 - acc: 0.6926 - val_loss: 0.4624 - val_acc: 0.8940         \n",
      "\n",
      "Best validation acc of epoch:                                                   \n",
      "0.8939999998410543                                                              \n",
      "Train on 54000 samples, validate on 6000 samples                                \n",
      "Epoch 1/2                                                                       \n",
      " - 20s - loss: 2.2176 - acc: 0.2849 - val_loss: 0.6955 - val_acc: 0.8128        \n",
      "\n",
      "Epoch 2/2                                                                       \n",
      " - 19s - loss: 1.5256 - acc: 0.4643 - val_loss: 0.5150 - val_acc: 0.8612        \n",
      "\n",
      "Best validation acc of epoch:                                                   \n",
      "0.8611666666666666                                                              \n",
      "Train on 54000 samples, validate on 6000 samples                                \n",
      "Epoch 1/2                                                                       \n",
      " - 15s - loss: 2.0378 - acc: 0.2839 - val_loss: 0.7010 - val_acc: 0.8635        \n",
      "\n",
      "Epoch 2/2                                                                       \n",
      " - 13s - loss: 1.2958 - acc: 0.5098 - val_loss: 0.3840 - val_acc: 0.9265        \n",
      "\n",
      "Best validation acc of epoch:                                                   \n",
      "0.9265                                                                          \n",
      "Train on 54000 samples, validate on 6000 samples                                \n",
      "Epoch 1/2                                                                       \n",
      " - 11s - loss: 0.7677 - acc: 0.7533 - val_loss: 0.1862 - val_acc: 0.9455        \n",
      "\n",
      "Epoch 2/2                                                                       \n",
      " - 10s - loss: 0.2944 - acc: 0.9161 - val_loss: 0.1176 - val_acc: 0.9658        \n",
      "\n",
      "Best validation acc of epoch:                                                   \n",
      "0.9658333334922791                                                              \n",
      "Train on 54000 samples, validate on 6000 samples                                \n",
      "Epoch 1/2                                                                       \n",
      " - 14s - loss: 0.5440 - acc: 0.8352 - val_loss: 0.1559 - val_acc: 0.9530        \n",
      "\n",
      "Epoch 2/2                                                                       \n",
      " - 13s - loss: 0.1723 - acc: 0.9525 - val_loss: 0.1003 - val_acc: 0.9722        \n",
      "\n",
      "Best validation acc of epoch:                                                   \n",
      "0.9721666661898295                                                              \n",
      "100%|█████████████| 5/5 [02:16<00:00, 25.81s/it, best loss: -0.9721666661898295]\n",
      "Evalutation of best performing model:\n"
     ]
    },
    {
     "name": "stdout",
     "output_type": "stream",
     "text": [
      "10000/10000 [==============================] - 1s 121us/step\n",
      "[0.11373598002339713, 0.9666]\n",
      "Best performing model chosen hyper-parameters:\n",
      "{'Activation': 1, 'Dense': 2, 'Dropout': 0.03323327852409652, 'Dropout_1': 0.0886198698550964, 'Dropout_2': 1, 'add': 0, 'batch_size': 1, 'optimizer': 0}\n"
     ]
    }
   ],
   "source": [
    "!python hyperas_example.py"
   ]
  },
  {
   "cell_type": "code",
   "execution_count": null,
   "metadata": {},
   "outputs": [],
   "source": []
  }
 ],
 "metadata": {
  "kernelspec": {
   "display_name": "Python 3",
   "language": "python",
   "name": "python3"
  },
  "language_info": {
   "codemirror_mode": {
    "name": "ipython",
    "version": 3
   },
   "file_extension": ".py",
   "mimetype": "text/x-python",
   "name": "python",
   "nbconvert_exporter": "python",
   "pygments_lexer": "ipython3",
   "version": "3.6.8"
  }
 },
 "nbformat": 4,
 "nbformat_minor": 2
}
