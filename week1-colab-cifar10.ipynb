{
  "nbformat": 4,
  "nbformat_minor": 0,
  "metadata": {
    "colab": {
      "name": "week1 cifar10.ipynb",
      "version": "0.3.2",
      "provenance": [],
      "include_colab_link": true
    },
    "kernelspec": {
      "name": "python3",
      "display_name": "Python 3"
    },
    "accelerator": "GPU"
  },
  "cells": [
    {
      "cell_type": "markdown",
      "metadata": {
        "id": "view-in-github",
        "colab_type": "text"
      },
      "source": [
        "<a href=\"https://colab.research.google.com/github/chupibk/INT3121-20/blob/master/week1-colab-cifar10.ipynb\" target=\"_parent\"><img src=\"https://colab.research.google.com/assets/colab-badge.svg\" alt=\"Open In Colab\"/></a>"
      ]
    },
    {
      "cell_type": "code",
      "metadata": {
        "id": "FIrB3D0MOXJM",
        "colab_type": "code",
        "colab": {
          "base_uri": "https://localhost:8080/",
          "height": 102
        },
        "outputId": "f5601410-73f8-4454-819c-c0fb826da179"
      },
      "source": [
        "import keras\n",
        "from keras.datasets import cifar10\n",
        "from keras.models import Sequential\n",
        "from keras.layers import Dense, Dropout, Activation, Flatten\n",
        "from keras.layers import Conv2D, MaxPooling2D\n",
        "\n",
        "#just to be sure, reload the dataset\n",
        "(x_train, y_train), (x_test, y_test) = cifar10.load_data()\n",
        "print(\"x_train shape: {}, y_train shape: {}\".format(x_train.shape, y_train.shape))\n",
        "print(\"{} train samples, {} test samples\".format(x_train.shape[0], x_test.shape[0]))"
      ],
      "execution_count": 1,
      "outputs": [
        {
          "output_type": "stream",
          "text": [
            "Using TensorFlow backend.\n"
          ],
          "name": "stderr"
        },
        {
          "output_type": "stream",
          "text": [
            "Downloading data from https://www.cs.toronto.edu/~kriz/cifar-10-python.tar.gz\n",
            "170500096/170498071 [==============================] - 11s 0us/step\n",
            "x_train shape: (50000, 32, 32, 3), y_train shape: (50000, 1)\n",
            "50000 train samples, 10000 test samples\n"
          ],
          "name": "stdout"
        }
      ]
    },
    {
      "cell_type": "code",
      "metadata": {
        "id": "mgFZPy0vOet_",
        "colab_type": "code",
        "colab": {}
      },
      "source": [
        "#Convert class vectors to binary class matrices\n",
        "num_classes = 10\n",
        "y_train = keras.utils.to_categorical(y_train, num_classes)\n",
        "y_test = keras.utils.to_categorical(y_test, num_classes)\n"
      ],
      "execution_count": 0,
      "outputs": []
    },
    {
      "cell_type": "code",
      "metadata": {
        "id": "rdRvoNnMOuc2",
        "colab_type": "code",
        "colab": {
          "base_uri": "https://localhost:8080/",
          "height": 343
        },
        "outputId": "e0096b45-d8a4-46b5-fed5-091231c0187f"
      },
      "source": [
        "#build a model\n",
        "# reference: https://keras.io/examples/cifar10_cnn/\n",
        "model = Sequential()\n",
        "model.add(Conv2D(32, (3, 3), padding='same',\n",
        "                 input_shape=x_train.shape[1:]))\n",
        "model.add(Activation('relu'))\n",
        "model.add(Conv2D(32, (3, 3)))\n",
        "model.add(Activation('relu'))\n",
        "model.add(MaxPooling2D(pool_size=(2, 2)))\n",
        "model.add(Dropout(0.25))\n",
        "\n",
        "model.add(Conv2D(64, (3, 3), padding='same'))\n",
        "model.add(Activation('relu'))\n",
        "model.add(Conv2D(64, (3, 3)))\n",
        "model.add(Activation('relu'))\n",
        "model.add(MaxPooling2D(pool_size=(2, 2)))\n",
        "model.add(Dropout(0.25))\n",
        "\n",
        "model.add(Flatten())\n",
        "model.add(Dense(512))\n",
        "model.add(Activation('relu'))\n",
        "model.add(Dropout(0.5))\n",
        "model.add(Dense(num_classes))\n",
        "model.add(Activation('softmax'))\n",
        "\n",
        "# initiate RMSprop optimizer\n",
        "opt = keras.optimizers.rmsprop(lr=0.0001, decay=1e-6)\n",
        "\n",
        "# Let's train the model using RMSprop\n",
        "model.compile(loss='categorical_crossentropy',\n",
        "              optimizer=opt,\n",
        "              metrics=['accuracy'])\n"
      ],
      "execution_count": 3,
      "outputs": [
        {
          "output_type": "stream",
          "text": [
            "WARNING: Logging before flag parsing goes to stderr.\n",
            "W0827 08:44:55.840609 140471924877184 deprecation_wrapper.py:119] From /usr/local/lib/python3.6/dist-packages/keras/backend/tensorflow_backend.py:74: The name tf.get_default_graph is deprecated. Please use tf.compat.v1.get_default_graph instead.\n",
            "\n",
            "W0827 08:44:56.135732 140471924877184 deprecation_wrapper.py:119] From /usr/local/lib/python3.6/dist-packages/keras/backend/tensorflow_backend.py:517: The name tf.placeholder is deprecated. Please use tf.compat.v1.placeholder instead.\n",
            "\n",
            "W0827 08:44:56.143472 140471924877184 deprecation_wrapper.py:119] From /usr/local/lib/python3.6/dist-packages/keras/backend/tensorflow_backend.py:4138: The name tf.random_uniform is deprecated. Please use tf.random.uniform instead.\n",
            "\n",
            "W0827 08:44:56.184844 140471924877184 deprecation_wrapper.py:119] From /usr/local/lib/python3.6/dist-packages/keras/backend/tensorflow_backend.py:3976: The name tf.nn.max_pool is deprecated. Please use tf.nn.max_pool2d instead.\n",
            "\n",
            "W0827 08:44:56.189005 140471924877184 deprecation_wrapper.py:119] From /usr/local/lib/python3.6/dist-packages/keras/backend/tensorflow_backend.py:133: The name tf.placeholder_with_default is deprecated. Please use tf.compat.v1.placeholder_with_default instead.\n",
            "\n",
            "W0827 08:44:56.198682 140471924877184 deprecation.py:506] From /usr/local/lib/python3.6/dist-packages/keras/backend/tensorflow_backend.py:3445: calling dropout (from tensorflow.python.ops.nn_ops) with keep_prob is deprecated and will be removed in a future version.\n",
            "Instructions for updating:\n",
            "Please use `rate` instead of `keep_prob`. Rate should be set to `rate = 1 - keep_prob`.\n",
            "W0827 08:44:56.330452 140471924877184 deprecation_wrapper.py:119] From /usr/local/lib/python3.6/dist-packages/keras/optimizers.py:790: The name tf.train.Optimizer is deprecated. Please use tf.compat.v1.train.Optimizer instead.\n",
            "\n",
            "W0827 08:44:56.340492 140471924877184 deprecation_wrapper.py:119] From /usr/local/lib/python3.6/dist-packages/keras/backend/tensorflow_backend.py:3295: The name tf.log is deprecated. Please use tf.math.log instead.\n",
            "\n"
          ],
          "name": "stderr"
        }
      ]
    },
    {
      "cell_type": "code",
      "metadata": {
        "id": "RA1WDvoYOx72",
        "colab_type": "code",
        "colab": {
          "base_uri": "https://localhost:8080/",
          "height": 802
        },
        "outputId": "1eaa3d0b-efbc-4328-9811-e1ad0a41778b"
      },
      "source": [
        "# train the model\n",
        "import time\n",
        "x_train = x_train.astype('float32')\n",
        "x_test = x_test.astype('float32')\n",
        "x_train /= 255\n",
        "x_test /= 255\n",
        "\n",
        "start = time.time()\n",
        "# train the model\n",
        "\n",
        "x_train = x_train.astype('float32')\n",
        "x_test = x_test.astype('float32')\n",
        "x_train /= 255\n",
        "x_test /= 255\n",
        "\n",
        "start = time.time()\n",
        "history = model.fit(x_train, y_train,\n",
        "                    batch_size=32,\n",
        "                    epochs=20,\n",
        "                    validation_split=0.2,\n",
        "                    shuffle=True,\n",
        "                    verbose=1\n",
        ")\n",
        "\n",
        "print(\"training time: \", time.time() - start)"
      ],
      "execution_count": 5,
      "outputs": [
        {
          "output_type": "stream",
          "text": [
            "W0827 08:45:24.796638 140471924877184 deprecation.py:323] From /usr/local/lib/python3.6/dist-packages/tensorflow/python/ops/math_grad.py:1250: add_dispatch_support.<locals>.wrapper (from tensorflow.python.ops.array_ops) is deprecated and will be removed in a future version.\n",
            "Instructions for updating:\n",
            "Use tf.where in 2.0, which has the same broadcast rule as np.where\n"
          ],
          "name": "stderr"
        },
        {
          "output_type": "stream",
          "text": [
            "Train on 40000 samples, validate on 10000 samples\n",
            "Epoch 1/20\n",
            "40000/40000 [==============================] - 22s 541us/step - loss: 2.1633 - acc: 0.2020 - val_loss: 2.1406 - val_acc: 0.2197\n",
            "Epoch 2/20\n",
            "40000/40000 [==============================] - 15s 381us/step - loss: 2.0225 - acc: 0.2646 - val_loss: 1.9573 - val_acc: 0.2984\n",
            "Epoch 3/20\n",
            "40000/40000 [==============================] - 15s 379us/step - loss: 1.9622 - acc: 0.2898 - val_loss: 1.9531 - val_acc: 0.2934\n",
            "Epoch 4/20\n",
            "40000/40000 [==============================] - 15s 380us/step - loss: 1.9129 - acc: 0.3133 - val_loss: 1.8535 - val_acc: 0.3350\n",
            "Epoch 5/20\n",
            "40000/40000 [==============================] - 15s 383us/step - loss: 1.8557 - acc: 0.3329 - val_loss: 1.7833 - val_acc: 0.3615\n",
            "Epoch 6/20\n",
            "40000/40000 [==============================] - 15s 382us/step - loss: 1.7938 - acc: 0.3579 - val_loss: 1.7298 - val_acc: 0.3806\n",
            "Epoch 7/20\n",
            "40000/40000 [==============================] - 15s 380us/step - loss: 1.7393 - acc: 0.3765 - val_loss: 1.6780 - val_acc: 0.4014\n",
            "Epoch 8/20\n",
            "40000/40000 [==============================] - 15s 385us/step - loss: 1.6908 - acc: 0.3942 - val_loss: 1.6357 - val_acc: 0.4188\n",
            "Epoch 9/20\n",
            "40000/40000 [==============================] - 15s 382us/step - loss: 1.6488 - acc: 0.4082 - val_loss: 1.6084 - val_acc: 0.4246\n",
            "Epoch 10/20\n",
            "40000/40000 [==============================] - 15s 381us/step - loss: 1.6109 - acc: 0.4222 - val_loss: 1.5536 - val_acc: 0.4434\n",
            "Epoch 11/20\n",
            "40000/40000 [==============================] - 15s 382us/step - loss: 1.5804 - acc: 0.4358 - val_loss: 1.5380 - val_acc: 0.4489\n",
            "Epoch 12/20\n",
            "40000/40000 [==============================] - 15s 381us/step - loss: 1.5475 - acc: 0.4489 - val_loss: 1.4862 - val_acc: 0.4738\n",
            "Epoch 13/20\n",
            "40000/40000 [==============================] - 15s 382us/step - loss: 1.5203 - acc: 0.4592 - val_loss: 1.4670 - val_acc: 0.4785\n",
            "Epoch 14/20\n",
            "40000/40000 [==============================] - 15s 380us/step - loss: 1.4973 - acc: 0.4634 - val_loss: 1.4312 - val_acc: 0.4915\n",
            "Epoch 15/20\n",
            "40000/40000 [==============================] - 15s 381us/step - loss: 1.4744 - acc: 0.4733 - val_loss: 1.4290 - val_acc: 0.4878\n",
            "Epoch 16/20\n",
            "40000/40000 [==============================] - 15s 385us/step - loss: 1.4527 - acc: 0.4844 - val_loss: 1.3876 - val_acc: 0.5063\n",
            "Epoch 17/20\n",
            "40000/40000 [==============================] - 15s 381us/step - loss: 1.4334 - acc: 0.4858 - val_loss: 1.3685 - val_acc: 0.5170\n",
            "Epoch 18/20\n",
            "40000/40000 [==============================] - 15s 386us/step - loss: 1.4107 - acc: 0.4967 - val_loss: 1.3829 - val_acc: 0.5142\n",
            "Epoch 19/20\n",
            "40000/40000 [==============================] - 15s 376us/step - loss: 1.3983 - acc: 0.5003 - val_loss: 1.3439 - val_acc: 0.5214\n",
            "Epoch 20/20\n",
            "40000/40000 [==============================] - 15s 377us/step - loss: 1.3807 - acc: 0.5077 - val_loss: 1.3535 - val_acc: 0.5204\n",
            "training time:  312.0184247493744\n"
          ],
          "name": "stdout"
        }
      ]
    },
    {
      "cell_type": "code",
      "metadata": {
        "id": "dBJTeQuyQB2j",
        "colab_type": "code",
        "colab": {
          "base_uri": "https://localhost:8080/",
          "height": 1000
        },
        "outputId": "6b520af9-c8f7-4ff5-c823-e3bb4980a9c6"
      },
      "source": [
        "start = time.time()\n",
        "history = model.fit(x_train, y_train,\n",
        "                    batch_size=32,\n",
        "                    epochs=100,\n",
        "                    validation_split=0.2,\n",
        "                    shuffle=True,\n",
        "                    verbose=1\n",
        ")\n",
        "\n",
        "print(\"training time: \", time.time() - start)"
      ],
      "execution_count": 6,
      "outputs": [
        {
          "output_type": "stream",
          "text": [
            "Train on 40000 samples, validate on 10000 samples\n",
            "Epoch 1/100\n",
            "40000/40000 [==============================] - 16s 395us/step - loss: 1.3676 - acc: 0.5139 - val_loss: 1.3141 - val_acc: 0.5362\n",
            "Epoch 2/100\n",
            "40000/40000 [==============================] - 16s 391us/step - loss: 1.3526 - acc: 0.5196 - val_loss: 1.3156 - val_acc: 0.5344\n",
            "Epoch 3/100\n",
            "40000/40000 [==============================] - 16s 392us/step - loss: 1.3433 - acc: 0.5220 - val_loss: 1.2843 - val_acc: 0.5468\n",
            "Epoch 4/100\n",
            "40000/40000 [==============================] - 16s 391us/step - loss: 1.3275 - acc: 0.5300 - val_loss: 1.3047 - val_acc: 0.5424\n",
            "Epoch 5/100\n",
            "40000/40000 [==============================] - 16s 392us/step - loss: 1.3154 - acc: 0.5328 - val_loss: 1.2587 - val_acc: 0.5582\n",
            "Epoch 6/100\n",
            "40000/40000 [==============================] - 16s 389us/step - loss: 1.3077 - acc: 0.5342 - val_loss: 1.2818 - val_acc: 0.5462\n",
            "Epoch 7/100\n",
            "40000/40000 [==============================] - 16s 390us/step - loss: 1.2940 - acc: 0.5425 - val_loss: 1.2925 - val_acc: 0.5500\n",
            "Epoch 8/100\n",
            "40000/40000 [==============================] - 16s 389us/step - loss: 1.2798 - acc: 0.5457 - val_loss: 1.2521 - val_acc: 0.5548\n",
            "Epoch 9/100\n",
            "40000/40000 [==============================] - 16s 390us/step - loss: 1.2728 - acc: 0.5497 - val_loss: 1.2354 - val_acc: 0.5627\n",
            "Epoch 10/100\n",
            "40000/40000 [==============================] - 16s 389us/step - loss: 1.2591 - acc: 0.5570 - val_loss: 1.2284 - val_acc: 0.5666\n",
            "Epoch 11/100\n",
            "40000/40000 [==============================] - 16s 391us/step - loss: 1.2504 - acc: 0.5612 - val_loss: 1.2022 - val_acc: 0.5804\n",
            "Epoch 12/100\n",
            "40000/40000 [==============================] - 16s 388us/step - loss: 1.2435 - acc: 0.5616 - val_loss: 1.2008 - val_acc: 0.5792\n",
            "Epoch 13/100\n",
            "40000/40000 [==============================] - 15s 387us/step - loss: 1.2317 - acc: 0.5639 - val_loss: 1.1958 - val_acc: 0.5856\n",
            "Epoch 14/100\n",
            "40000/40000 [==============================] - 15s 386us/step - loss: 1.2250 - acc: 0.5661 - val_loss: 1.2078 - val_acc: 0.5870\n",
            "Epoch 15/100\n",
            "40000/40000 [==============================] - 15s 387us/step - loss: 1.2149 - acc: 0.5729 - val_loss: 1.1854 - val_acc: 0.5875\n",
            "Epoch 16/100\n",
            "40000/40000 [==============================] - 15s 387us/step - loss: 1.2060 - acc: 0.5781 - val_loss: 1.1794 - val_acc: 0.5916\n",
            "Epoch 17/100\n",
            "40000/40000 [==============================] - 15s 386us/step - loss: 1.1978 - acc: 0.5767 - val_loss: 1.2024 - val_acc: 0.5897\n",
            "Epoch 18/100\n",
            "40000/40000 [==============================] - 15s 385us/step - loss: 1.1876 - acc: 0.5826 - val_loss: 1.1494 - val_acc: 0.6033\n",
            "Epoch 19/100\n",
            "40000/40000 [==============================] - 15s 386us/step - loss: 1.1835 - acc: 0.5847 - val_loss: 1.1560 - val_acc: 0.6001\n",
            "Epoch 20/100\n",
            "40000/40000 [==============================] - 15s 384us/step - loss: 1.1774 - acc: 0.5857 - val_loss: 1.1468 - val_acc: 0.6041\n",
            "Epoch 21/100\n",
            "40000/40000 [==============================] - 15s 385us/step - loss: 1.1693 - acc: 0.5921 - val_loss: 1.1254 - val_acc: 0.6063\n",
            "Epoch 22/100\n",
            "40000/40000 [==============================] - 15s 384us/step - loss: 1.1603 - acc: 0.5942 - val_loss: 1.1873 - val_acc: 0.5916\n",
            "Epoch 23/100\n",
            "40000/40000 [==============================] - 15s 386us/step - loss: 1.1544 - acc: 0.5950 - val_loss: 1.1060 - val_acc: 0.6189\n",
            "Epoch 24/100\n",
            "40000/40000 [==============================] - 15s 384us/step - loss: 1.1466 - acc: 0.5970 - val_loss: 1.1048 - val_acc: 0.6190\n",
            "Epoch 25/100\n",
            "40000/40000 [==============================] - 15s 386us/step - loss: 1.1406 - acc: 0.6013 - val_loss: 1.1062 - val_acc: 0.6164\n",
            "Epoch 26/100\n",
            "40000/40000 [==============================] - 15s 386us/step - loss: 1.1293 - acc: 0.6033 - val_loss: 1.1537 - val_acc: 0.6091\n",
            "Epoch 27/100\n",
            "40000/40000 [==============================] - 15s 382us/step - loss: 1.1250 - acc: 0.6078 - val_loss: 1.0663 - val_acc: 0.6253\n",
            "Epoch 28/100\n",
            "40000/40000 [==============================] - 15s 387us/step - loss: 1.1220 - acc: 0.6093 - val_loss: 1.0950 - val_acc: 0.6241\n",
            "Epoch 29/100\n",
            "40000/40000 [==============================] - 16s 388us/step - loss: 1.1149 - acc: 0.6085 - val_loss: 1.0743 - val_acc: 0.6287\n",
            "Epoch 30/100\n",
            "40000/40000 [==============================] - 16s 391us/step - loss: 1.1054 - acc: 0.6167 - val_loss: 1.0486 - val_acc: 0.6418\n",
            "Epoch 31/100\n",
            "40000/40000 [==============================] - 16s 396us/step - loss: 1.1019 - acc: 0.6176 - val_loss: 1.0807 - val_acc: 0.6257\n",
            "Epoch 32/100\n",
            "40000/40000 [==============================] - 16s 391us/step - loss: 1.0987 - acc: 0.6187 - val_loss: 1.0667 - val_acc: 0.6359\n",
            "Epoch 33/100\n",
            "40000/40000 [==============================] - 16s 388us/step - loss: 1.0954 - acc: 0.6199 - val_loss: 1.0716 - val_acc: 0.6298\n",
            "Epoch 34/100\n",
            "40000/40000 [==============================] - 16s 390us/step - loss: 1.0835 - acc: 0.6241 - val_loss: 1.0662 - val_acc: 0.6388\n",
            "Epoch 35/100\n",
            "40000/40000 [==============================] - 16s 391us/step - loss: 1.0819 - acc: 0.6244 - val_loss: 1.0513 - val_acc: 0.6425\n",
            "Epoch 36/100\n",
            "40000/40000 [==============================] - 16s 391us/step - loss: 1.0794 - acc: 0.6245 - val_loss: 1.0257 - val_acc: 0.6495\n",
            "Epoch 37/100\n",
            "40000/40000 [==============================] - 16s 389us/step - loss: 1.0693 - acc: 0.6287 - val_loss: 1.0691 - val_acc: 0.6468\n",
            "Epoch 38/100\n",
            "40000/40000 [==============================] - 16s 388us/step - loss: 1.0671 - acc: 0.6298 - val_loss: 1.0184 - val_acc: 0.6497\n",
            "Epoch 39/100\n",
            "40000/40000 [==============================] - 16s 389us/step - loss: 1.0628 - acc: 0.6333 - val_loss: 1.0119 - val_acc: 0.6532\n",
            "Epoch 40/100\n",
            "40000/40000 [==============================] - 16s 390us/step - loss: 1.0562 - acc: 0.6346 - val_loss: 1.0223 - val_acc: 0.6494\n",
            "Epoch 41/100\n",
            "40000/40000 [==============================] - 16s 391us/step - loss: 1.0573 - acc: 0.6351 - val_loss: 1.0277 - val_acc: 0.6519\n",
            "Epoch 42/100\n",
            "40000/40000 [==============================] - 16s 388us/step - loss: 1.0518 - acc: 0.6361 - val_loss: 1.0034 - val_acc: 0.6610\n",
            "Epoch 43/100\n",
            "40000/40000 [==============================] - 16s 390us/step - loss: 1.0460 - acc: 0.6388 - val_loss: 1.0240 - val_acc: 0.6529\n",
            "Epoch 44/100\n",
            "40000/40000 [==============================] - 16s 390us/step - loss: 1.0469 - acc: 0.6378 - val_loss: 1.0248 - val_acc: 0.6646\n",
            "Epoch 45/100\n",
            "40000/40000 [==============================] - 16s 391us/step - loss: 1.0369 - acc: 0.6437 - val_loss: 0.9876 - val_acc: 0.6601\n",
            "Epoch 46/100\n",
            "40000/40000 [==============================] - 16s 389us/step - loss: 1.0386 - acc: 0.6407 - val_loss: 0.9834 - val_acc: 0.6621\n",
            "Epoch 47/100\n",
            "40000/40000 [==============================] - 16s 389us/step - loss: 1.0338 - acc: 0.6432 - val_loss: 0.9754 - val_acc: 0.6629\n",
            "Epoch 48/100\n",
            "40000/40000 [==============================] - 16s 394us/step - loss: 1.0312 - acc: 0.6456 - val_loss: 1.0601 - val_acc: 0.6413\n",
            "Epoch 49/100\n",
            "40000/40000 [==============================] - 16s 390us/step - loss: 1.0286 - acc: 0.6473 - val_loss: 0.9838 - val_acc: 0.6626\n",
            "Epoch 50/100\n",
            "40000/40000 [==============================] - 16s 389us/step - loss: 1.0270 - acc: 0.6479 - val_loss: 0.9936 - val_acc: 0.6581\n",
            "Epoch 51/100\n",
            "40000/40000 [==============================] - 16s 397us/step - loss: 1.0201 - acc: 0.6484 - val_loss: 1.0043 - val_acc: 0.6561\n",
            "Epoch 52/100\n",
            "40000/40000 [==============================] - 16s 390us/step - loss: 1.0187 - acc: 0.6496 - val_loss: 0.9589 - val_acc: 0.6752\n",
            "Epoch 53/100\n",
            "40000/40000 [==============================] - 16s 391us/step - loss: 1.0109 - acc: 0.6516 - val_loss: 0.9724 - val_acc: 0.6721\n",
            "Epoch 54/100\n",
            "40000/40000 [==============================] - 16s 391us/step - loss: 1.0088 - acc: 0.6552 - val_loss: 0.9871 - val_acc: 0.6646\n",
            "Epoch 55/100\n",
            "40000/40000 [==============================] - 16s 389us/step - loss: 1.0092 - acc: 0.6541 - val_loss: 0.9626 - val_acc: 0.6783\n",
            "Epoch 56/100\n",
            "40000/40000 [==============================] - 16s 390us/step - loss: 1.0028 - acc: 0.6558 - val_loss: 0.9530 - val_acc: 0.6748\n",
            "Epoch 57/100\n",
            "40000/40000 [==============================] - 16s 392us/step - loss: 0.9989 - acc: 0.6569 - val_loss: 0.9762 - val_acc: 0.6746\n",
            "Epoch 58/100\n",
            "40000/40000 [==============================] - 16s 391us/step - loss: 1.0033 - acc: 0.6552 - val_loss: 1.0192 - val_acc: 0.6520\n",
            "Epoch 59/100\n",
            "40000/40000 [==============================] - 16s 393us/step - loss: 1.0001 - acc: 0.6611 - val_loss: 1.0270 - val_acc: 0.6474\n",
            "Epoch 60/100\n",
            "40000/40000 [==============================] - 16s 391us/step - loss: 0.9896 - acc: 0.6595 - val_loss: 0.9605 - val_acc: 0.6699\n",
            "Epoch 61/100\n",
            "40000/40000 [==============================] - 16s 390us/step - loss: 0.9960 - acc: 0.6589 - val_loss: 0.9643 - val_acc: 0.6697\n",
            "Epoch 62/100\n",
            "40000/40000 [==============================] - 16s 390us/step - loss: 0.9895 - acc: 0.6627 - val_loss: 0.9577 - val_acc: 0.6699\n",
            "Epoch 63/100\n",
            "40000/40000 [==============================] - 16s 388us/step - loss: 0.9900 - acc: 0.6604 - val_loss: 0.9793 - val_acc: 0.6664\n",
            "Epoch 64/100\n",
            "40000/40000 [==============================] - 16s 390us/step - loss: 0.9910 - acc: 0.6613 - val_loss: 1.0106 - val_acc: 0.6558\n",
            "Epoch 65/100\n",
            "40000/40000 [==============================] - 16s 390us/step - loss: 0.9857 - acc: 0.6613 - val_loss: 0.9480 - val_acc: 0.6759\n",
            "Epoch 66/100\n",
            "40000/40000 [==============================] - 16s 392us/step - loss: 0.9803 - acc: 0.6638 - val_loss: 0.9390 - val_acc: 0.6788\n",
            "Epoch 67/100\n",
            "40000/40000 [==============================] - 16s 391us/step - loss: 0.9847 - acc: 0.6631 - val_loss: 0.9702 - val_acc: 0.6702\n",
            "Epoch 68/100\n",
            "40000/40000 [==============================] - 16s 395us/step - loss: 0.9781 - acc: 0.6665 - val_loss: 0.9459 - val_acc: 0.6764\n",
            "Epoch 69/100\n",
            "40000/40000 [==============================] - 16s 390us/step - loss: 0.9745 - acc: 0.6669 - val_loss: 0.9562 - val_acc: 0.6739\n",
            "Epoch 70/100\n",
            "40000/40000 [==============================] - 16s 393us/step - loss: 0.9732 - acc: 0.6691 - val_loss: 0.9681 - val_acc: 0.6801\n",
            "Epoch 71/100\n",
            "40000/40000 [==============================] - 16s 398us/step - loss: 0.9779 - acc: 0.6674 - val_loss: 0.9374 - val_acc: 0.6822\n",
            "Epoch 72/100\n",
            "40000/40000 [==============================] - 16s 390us/step - loss: 0.9698 - acc: 0.6706 - val_loss: 1.0884 - val_acc: 0.6334\n",
            "Epoch 73/100\n",
            "40000/40000 [==============================] - 16s 390us/step - loss: 0.9695 - acc: 0.6690 - val_loss: 0.9397 - val_acc: 0.6858\n",
            "Epoch 74/100\n",
            "40000/40000 [==============================] - 16s 390us/step - loss: 0.9660 - acc: 0.6687 - val_loss: 1.0309 - val_acc: 0.6558\n",
            "Epoch 75/100\n",
            "40000/40000 [==============================] - 16s 391us/step - loss: 0.9701 - acc: 0.6697 - val_loss: 0.9589 - val_acc: 0.6787\n",
            "Epoch 76/100\n",
            "40000/40000 [==============================] - 16s 391us/step - loss: 0.9558 - acc: 0.6743 - val_loss: 0.9749 - val_acc: 0.6756\n",
            "Epoch 77/100\n",
            "40000/40000 [==============================] - 16s 390us/step - loss: 0.9678 - acc: 0.6708 - val_loss: 0.9554 - val_acc: 0.6796\n",
            "Epoch 78/100\n",
            "40000/40000 [==============================] - 16s 390us/step - loss: 0.9639 - acc: 0.6718 - val_loss: 0.9214 - val_acc: 0.6867\n",
            "Epoch 79/100\n",
            "40000/40000 [==============================] - 16s 389us/step - loss: 0.9661 - acc: 0.6698 - val_loss: 0.9644 - val_acc: 0.6729\n",
            "Epoch 80/100\n",
            "40000/40000 [==============================] - 16s 390us/step - loss: 0.9579 - acc: 0.6730 - val_loss: 0.9446 - val_acc: 0.6807\n",
            "Epoch 81/100\n",
            "40000/40000 [==============================] - 16s 389us/step - loss: 0.9540 - acc: 0.6741 - val_loss: 0.9979 - val_acc: 0.6548\n",
            "Epoch 82/100\n",
            "40000/40000 [==============================] - 16s 389us/step - loss: 0.9561 - acc: 0.6746 - val_loss: 0.9316 - val_acc: 0.6826\n",
            "Epoch 83/100\n",
            "40000/40000 [==============================] - 16s 390us/step - loss: 0.9489 - acc: 0.6764 - val_loss: 0.9303 - val_acc: 0.6888\n",
            "Epoch 84/100\n",
            "40000/40000 [==============================] - 16s 391us/step - loss: 0.9573 - acc: 0.6774 - val_loss: 0.9292 - val_acc: 0.6903\n",
            "Epoch 85/100\n",
            "40000/40000 [==============================] - 16s 388us/step - loss: 0.9528 - acc: 0.6785 - val_loss: 0.9876 - val_acc: 0.6831\n",
            "Epoch 86/100\n",
            "40000/40000 [==============================] - 16s 390us/step - loss: 0.9573 - acc: 0.6747 - val_loss: 0.9328 - val_acc: 0.6789\n",
            "Epoch 87/100\n",
            "40000/40000 [==============================] - 16s 393us/step - loss: 0.9543 - acc: 0.6753 - val_loss: 0.9630 - val_acc: 0.6825\n",
            "Epoch 88/100\n",
            "40000/40000 [==============================] - 16s 390us/step - loss: 0.9578 - acc: 0.6758 - val_loss: 0.9157 - val_acc: 0.6897\n",
            "Epoch 89/100\n",
            "40000/40000 [==============================] - 16s 391us/step - loss: 0.9520 - acc: 0.6758 - val_loss: 0.9490 - val_acc: 0.6936\n",
            "Epoch 90/100\n",
            "40000/40000 [==============================] - 16s 389us/step - loss: 0.9522 - acc: 0.6777 - val_loss: 0.9324 - val_acc: 0.6809\n",
            "Epoch 91/100\n",
            "40000/40000 [==============================] - 16s 398us/step - loss: 0.9536 - acc: 0.6755 - val_loss: 1.0260 - val_acc: 0.6667\n",
            "Epoch 92/100\n",
            "40000/40000 [==============================] - 16s 390us/step - loss: 0.9516 - acc: 0.6767 - val_loss: 0.9185 - val_acc: 0.6920\n",
            "Epoch 93/100\n",
            "40000/40000 [==============================] - 16s 389us/step - loss: 0.9541 - acc: 0.6778 - val_loss: 0.9086 - val_acc: 0.6886\n",
            "Epoch 94/100\n",
            "40000/40000 [==============================] - 16s 389us/step - loss: 0.9510 - acc: 0.6782 - val_loss: 0.9382 - val_acc: 0.6818\n",
            "Epoch 95/100\n",
            "40000/40000 [==============================] - 16s 391us/step - loss: 0.9468 - acc: 0.6798 - val_loss: 1.0042 - val_acc: 0.6509\n",
            "Epoch 96/100\n",
            "40000/40000 [==============================] - 16s 389us/step - loss: 0.9476 - acc: 0.6791 - val_loss: 1.0804 - val_acc: 0.6478\n",
            "Epoch 97/100\n",
            "40000/40000 [==============================] - 16s 391us/step - loss: 0.9511 - acc: 0.6754 - val_loss: 0.9080 - val_acc: 0.6887\n",
            "Epoch 98/100\n",
            "40000/40000 [==============================] - 16s 391us/step - loss: 0.9467 - acc: 0.6779 - val_loss: 0.9063 - val_acc: 0.6929\n",
            "Epoch 99/100\n",
            "40000/40000 [==============================] - 16s 389us/step - loss: 0.9462 - acc: 0.6791 - val_loss: 0.9095 - val_acc: 0.6963\n",
            "Epoch 100/100\n",
            "40000/40000 [==============================] - 16s 391us/step - loss: 0.9440 - acc: 0.6805 - val_loss: 0.8926 - val_acc: 0.6906\n",
            "training time:  1559.5138347148895\n"
          ],
          "name": "stdout"
        }
      ]
    },
    {
      "cell_type": "code",
      "metadata": {
        "id": "acMQveE4Rp36",
        "colab_type": "code",
        "colab": {}
      },
      "source": [
        "# plot the history training\n",
        "def plot_train_val(history, value=\"loss\"):\n",
        "    \"\"\"Print loss or accuracy\n",
        "    \"loss\" or \"acc\"\n",
        "    \"\"\"\n",
        "    train_value = history.history[value]\n",
        "    val_value = history.history[\"val_\"+value]\n",
        "\n",
        "    epochs = range(1, len(train_value) + 1)\n",
        "    # \"bo\" is for \"blue dot\"\n",
        "    plt.plot(epochs, train_value, 'r+', label='Training %s' % value)\n",
        "    # b is for \"solid blue line\"\n",
        "    plt.plot(epochs, val_value, 'b', label='Validation %s' % value)\n",
        "    plt.title('Training and validation %s' % value)\n",
        "    plt.xlabel('Epochs')\n",
        "    plt.ylabel(value)\n",
        "    plt.legend()\n",
        "\n",
        "    plt.show()\n"
      ],
      "execution_count": 0,
      "outputs": []
    },
    {
      "cell_type": "code",
      "metadata": {
        "id": "M-P9O-jwuky_",
        "colab_type": "code",
        "colab": {}
      },
      "source": [
        "%matplotlib inline"
      ],
      "execution_count": 0,
      "outputs": []
    },
    {
      "cell_type": "code",
      "metadata": {
        "id": "iiQpWn80unr8",
        "colab_type": "code",
        "colab": {}
      },
      "source": [
        "import matplotlib.pyplot as plt"
      ],
      "execution_count": 0,
      "outputs": []
    },
    {
      "cell_type": "code",
      "metadata": {
        "id": "IYUnvbltupSE",
        "colab_type": "code",
        "colab": {
          "base_uri": "https://localhost:8080/",
          "height": 295
        },
        "outputId": "d45c89d8-0b84-4330-b3f4-15d55dac6316"
      },
      "source": [
        "plot_train_val(history, \"loss\")"
      ],
      "execution_count": 10,
      "outputs": [
        {
          "output_type": "display_data",
          "data": {
            "image/png": "[encoded data removed]",
            "text/plain": [
              "<Figure size 432x288 with 1 Axes>"
            ]
          },
          "metadata": {
            "tags": []
          }
        }
      ]
    },
    {
      "cell_type": "code",
      "metadata": {
        "id": "eDRp2B0RuqG8",
        "colab_type": "code",
        "colab": {
          "base_uri": "https://localhost:8080/",
          "height": 68
        },
        "outputId": "128ef090-85f9-49d5-cfa3-c40bd66657fb"
      },
      "source": [
        "start = time.time()\n",
        "score, acc = model.evaluate(x_test, y_test, batch_size=32)\n",
        "print(\"Evaluation time: \", time.time() - start)\n",
        "print(\"Score/accuracy: \", score, acc)"
      ],
      "execution_count": 11,
      "outputs": [
        {
          "output_type": "stream",
          "text": [
            "10000/10000 [==============================] - 1s 145us/step\n",
            "Evaluation time:  1.4566154479980469\n",
            "Score/accuracy:  0.9059611549377441 0.6914\n"
          ],
          "name": "stdout"
        }
      ]
    },
    {
      "cell_type": "code",
      "metadata": {
        "id": "FIPzkOEEusTE",
        "colab_type": "code",
        "colab": {}
      },
      "source": [
        ""
      ],
      "execution_count": 0,
      "outputs": []
    }
  ]
}