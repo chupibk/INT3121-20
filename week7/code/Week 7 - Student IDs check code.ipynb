{
 "cells": [
  {
   "cell_type": "code",
   "execution_count": null,
   "metadata": {},
   "outputs": [],
   "source": []
  },
  {
   "cell_type": "code",
   "execution_count": 2,
   "metadata": {},
   "outputs": [
    {
     "name": "stdout",
     "output_type": "stream",
     "text": [
      "Python 3.6.8 :: Anaconda, Inc.\r\n"
     ]
    }
   ],
   "source": [
    "!python --version"
   ]
  },
  {
   "cell_type": "code",
   "execution_count": 55,
   "metadata": {},
   "outputs": [],
   "source": [
    "#danh sach tren form\n",
    "group_ids = '''16020213, 16020190, 16020191, 16020199, 16020237\n",
    "16020208, 16020192, 16020242, 16022409\n",
    "16020064, 16020229, 16020231, 16020206\n",
    "16020258, 16020246, 16020300\n",
    "16020226\n",
    "16020219\n",
    "16020240\n",
    "16020235\n",
    "16022414\n",
    "16020258, 16020246, 16020300, 16020245\n",
    "16022306, 16022403, 16022401\n",
    "16022413, 16022406, 16022420, 16020227, 16020297\n",
    "16022405, 16022419, 16021566, 16020063\n",
    "16020271, 16021620, 16020283, 16020273, 16020279\n",
    "16021415, 16020286, 16022408, 16020263\n",
    "16020043, 16020218, 16020228, 16020225\n",
    "16020280, 16020278, 16022421\n",
    "16020292, 16922417, 16020282, 16022418, 16022421\n",
    "'''\n",
    "ids = group_ids.strip()\n",
    "ids = ids.replace('\\n', ',')\n",
    "ids = ids.replace(' ', '')\n",
    "ids = ids.split(\",\")"
   ]
  },
  {
   "cell_type": "code",
   "execution_count": 56,
   "metadata": {},
   "outputs": [],
   "source": [
    "ids = set(ids)"
   ]
  },
  {
   "cell_type": "code",
   "execution_count": 57,
   "metadata": {},
   "outputs": [
    {
     "data": {
      "text/plain": [
       "54"
      ]
     },
     "execution_count": 57,
     "metadata": {},
     "output_type": "execute_result"
    }
   ],
   "source": [
    "len(ids)"
   ]
  },
  {
   "cell_type": "code",
   "execution_count": 58,
   "metadata": {},
   "outputs": [
    {
     "name": "stdout",
     "output_type": "stream",
     "text": [
      "{'16022406', '16020206', '16020043', '16021620', '16020228', '16020245', '16022405', '16022414', '16020225', '16020286', '16022420', '16020199', '16021566', '16022418', '16020227', '16020218', '16020235', '16020280', '16020246', '16022306', '16020064', '16022401', '16020190', '16020213', '16020263', '16020300', '16020191', '16022403', '16020229', '16022419', '16020192', '16020258', '16020282', '16020226', '16020219', '16020297', '16020063', '16022408', '16020292', '16022421', '16922417', '16020271', '16020208', '16020273', '16020231', '16021415', '16020279', '16022413', '16020242', '16020240', '16020237', '16020283', '16022409', '16020278'}\n"
     ]
    }
   ],
   "source": [
    "print(ids)"
   ]
  },
  {
   "cell_type": "code",
   "execution_count": 59,
   "metadata": {},
   "outputs": [],
   "source": [
    "#danh sach lop\n",
    "registered_ids = '''16020300\n",
    "16020190\n",
    "16020191\n",
    "16020192\n",
    "16022401\n",
    "16020199\n",
    "16020206\n",
    "16020208\n",
    "16022403\n",
    "16021566\n",
    "16022306\n",
    "16020209\n",
    "16020043\n",
    "16020213\n",
    "16020218\n",
    "16020219\n",
    "16020226\n",
    "16020225\n",
    "16020227\n",
    "16022405\n",
    "16020228\n",
    "16020229\n",
    "16020064\n",
    "16020230\n",
    "16020231\n",
    "16020235\n",
    "16020240\n",
    "16020237\n",
    "16020242\n",
    "16022406\n",
    "16020245\n",
    "16022408\n",
    "16020397\n",
    "16020246\n",
    "16022409\n",
    "16020258\n",
    "16022414\n",
    "16022413\n",
    "16021620\n",
    "16020263\n",
    "16020271\n",
    "16020273\n",
    "16021415\n",
    "16020278\n",
    "16020279\n",
    "16022419\n",
    "16020280\n",
    "16020282\n",
    "16020283\n",
    "16022494\n",
    "16022420\n",
    "16020286\n",
    "16020287\n",
    "16022421\n",
    "16022417\n",
    "16020292\n",
    "16022418\n",
    "16020063\n",
    "16020297'''"
   ]
  },
  {
   "cell_type": "code",
   "execution_count": 60,
   "metadata": {},
   "outputs": [],
   "source": [
    "registered_ids = registered_ids.split(\"\\n\")"
   ]
  },
  {
   "cell_type": "code",
   "execution_count": 61,
   "metadata": {},
   "outputs": [
    {
     "data": {
      "text/plain": [
       "59"
      ]
     },
     "execution_count": 61,
     "metadata": {},
     "output_type": "execute_result"
    }
   ],
   "source": [
    "registered_ids = set(registered_ids)\n",
    "len(registered_ids)"
   ]
  },
  {
   "cell_type": "code",
   "execution_count": 62,
   "metadata": {},
   "outputs": [
    {
     "data": {
      "text/plain": [
       "{'16020209', '16020230', '16020287', '16020397', '16022417', '16022494'}"
      ]
     },
     "execution_count": 62,
     "metadata": {},
     "output_type": "execute_result"
    }
   ],
   "source": [
    "registered_ids.difference(ids)"
   ]
  },
  {
   "cell_type": "code",
   "execution_count": 63,
   "metadata": {},
   "outputs": [
    {
     "data": {
      "text/plain": [
       "{'16922417'}"
      ]
     },
     "execution_count": 63,
     "metadata": {},
     "output_type": "execute_result"
    }
   ],
   "source": [
    "ids.difference(registered_ids)"
   ]
  },
  {
   "cell_type": "code",
   "execution_count": 64,
   "metadata": {},
   "outputs": [
    {
     "data": {
      "text/plain": [
       "53"
      ]
     },
     "execution_count": 64,
     "metadata": {},
     "output_type": "execute_result"
    }
   ],
   "source": [
    "len(registered_ids.intersection(ids))"
   ]
  },
  {
   "cell_type": "code",
   "execution_count": null,
   "metadata": {},
   "outputs": [],
   "source": []
  }
 ],
 "metadata": {
  "kernelspec": {
   "display_name": "Python 3",
   "language": "python",
   "name": "python3"
  },
  "language_info": {
   "codemirror_mode": {
    "name": "ipython",
    "version": 3
   },
   "file_extension": ".py",
   "mimetype": "text/x-python",
   "name": "python",
   "nbconvert_exporter": "python",
   "pygments_lexer": "ipython3",
   "version": "3.6.8"
  }
 },
 "nbformat": 4,
 "nbformat_minor": 2
}
